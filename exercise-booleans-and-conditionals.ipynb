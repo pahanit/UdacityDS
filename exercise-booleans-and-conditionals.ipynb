{
 "cells": [
  {
   "cell_type": "markdown",
   "id": "22aece62",
   "metadata": {
    "papermill": {
     "duration": 0.008859,
     "end_time": "2024-02-05T17:58:35.398493",
     "exception": false,
     "start_time": "2024-02-05T17:58:35.389634",
     "status": "completed"
    },
    "tags": []
   },
   "source": [
    "**This notebook is an exercise in the [Python](https://www.kaggle.com/learn/python) course.  You can reference the tutorial at [this link](https://www.kaggle.com/colinmorris/booleans-and-conditionals).**\n",
    "\n",
    "---\n"
   ]
  },
  {
   "cell_type": "markdown",
   "id": "3310ebd4",
   "metadata": {
    "papermill": {
     "duration": 0.007623,
     "end_time": "2024-02-05T17:58:35.414267",
     "exception": false,
     "start_time": "2024-02-05T17:58:35.406644",
     "status": "completed"
    },
    "tags": []
   },
   "source": [
    "In this exercise, you'll put to work what you have learned about booleans and conditionals.\n",
    "\n",
    "To get started, **run the setup code below** before writing your own code (and if you leave this notebook and come back later, don't forget to run the setup code again)."
   ]
  },
  {
   "cell_type": "code",
   "execution_count": 1,
   "id": "62b04e53",
   "metadata": {
    "execution": {
     "iopub.execute_input": "2024-02-05T17:58:35.432294Z",
     "iopub.status.busy": "2024-02-05T17:58:35.431651Z",
     "iopub.status.idle": "2024-02-05T17:58:36.391077Z",
     "shell.execute_reply": "2024-02-05T17:58:36.389939Z"
    },
    "papermill": {
     "duration": 0.972205,
     "end_time": "2024-02-05T17:58:36.394418",
     "exception": false,
     "start_time": "2024-02-05T17:58:35.422213",
     "status": "completed"
    },
    "tags": []
   },
   "outputs": [
    {
     "name": "stdout",
     "output_type": "stream",
     "text": [
      "Setup complete.\n"
     ]
    }
   ],
   "source": [
    "from learntools.core import binder; binder.bind(globals())\n",
    "from learntools.python.ex3 import *\n",
    "print('Setup complete.')"
   ]
  },
  {
   "cell_type": "markdown",
   "id": "cbe0965c",
   "metadata": {
    "papermill": {
     "duration": 0.008018,
     "end_time": "2024-02-05T17:58:36.411474",
     "exception": false,
     "start_time": "2024-02-05T17:58:36.403456",
     "status": "completed"
    },
    "tags": []
   },
   "source": [
    "# 1.\n",
    "\n",
    "Many programming languages have [`sign`](https://en.wikipedia.org/wiki/Sign_function) available as a built-in function. Python doesn't, but we can define our own!\n",
    "\n",
    "In the cell below, define a function called `sign` which takes a numerical argument and returns -1 if it's negative, 1 if it's positive, and 0 if it's 0."
   ]
  },
  {
   "cell_type": "code",
   "execution_count": 2,
   "id": "b27d6d66",
   "metadata": {
    "execution": {
     "iopub.execute_input": "2024-02-05T17:58:36.429389Z",
     "iopub.status.busy": "2024-02-05T17:58:36.428909Z",
     "iopub.status.idle": "2024-02-05T17:58:36.439399Z",
     "shell.execute_reply": "2024-02-05T17:58:36.438331Z"
    },
    "papermill": {
     "duration": 0.021748,
     "end_time": "2024-02-05T17:58:36.441460",
     "exception": false,
     "start_time": "2024-02-05T17:58:36.419712",
     "status": "completed"
    },
    "tags": []
   },
   "outputs": [
    {
     "data": {
      "application/javascript": [
       "parent.postMessage({\"jupyterEvent\": \"custom.exercise_interaction\", \"data\": {\"outcomeType\": 1, \"valueTowardsCompletion\": 0.2, \"interactionType\": 1, \"questionType\": 2, \"questionId\": \"1_SignFunctionProblem\", \"learnToolsVersion\": \"0.3.4\", \"failureMessage\": \"\", \"exceptionClass\": \"\", \"trace\": \"\"}}, \"*\")"
      ],
      "text/plain": [
       "<IPython.core.display.Javascript object>"
      ]
     },
     "metadata": {},
     "output_type": "display_data"
    },
    {
     "data": {
      "text/markdown": [
       "<span style=\"color:#33cc33\">Correct</span>"
      ],
      "text/plain": [
       "Correct"
      ]
     },
     "metadata": {},
     "output_type": "display_data"
    }
   ],
   "source": [
    "# Your code goes here. Define a function called 'sign'\n",
    "def sign(n):\n",
    "    if n > 0:\n",
    "        return 1\n",
    "    elif n < 0:\n",
    "        return -1\n",
    "    else:\n",
    "        return 0\n",
    "        \n",
    "# Check your answer\n",
    "q1.check()"
   ]
  },
  {
   "cell_type": "code",
   "execution_count": 3,
   "id": "d16275bc",
   "metadata": {
    "execution": {
     "iopub.execute_input": "2024-02-05T17:58:36.460680Z",
     "iopub.status.busy": "2024-02-05T17:58:36.459953Z",
     "iopub.status.idle": "2024-02-05T17:58:36.464496Z",
     "shell.execute_reply": "2024-02-05T17:58:36.463550Z"
    },
    "papermill": {
     "duration": 0.016627,
     "end_time": "2024-02-05T17:58:36.466593",
     "exception": false,
     "start_time": "2024-02-05T17:58:36.449966",
     "status": "completed"
    },
    "tags": []
   },
   "outputs": [],
   "source": [
    "#q1.solution()"
   ]
  },
  {
   "cell_type": "markdown",
   "id": "e994ee07",
   "metadata": {
    "papermill": {
     "duration": 0.008614,
     "end_time": "2024-02-05T17:58:36.484271",
     "exception": false,
     "start_time": "2024-02-05T17:58:36.475657",
     "status": "completed"
    },
    "tags": []
   },
   "source": [
    "# 2.\n",
    "\n",
    "We've decided to add \"logging\" to our `to_smash` function from the previous exercise."
   ]
  },
  {
   "cell_type": "code",
   "execution_count": 4,
   "id": "cdef3fd9",
   "metadata": {
    "execution": {
     "iopub.execute_input": "2024-02-05T17:58:36.504417Z",
     "iopub.status.busy": "2024-02-05T17:58:36.503669Z",
     "iopub.status.idle": "2024-02-05T17:58:36.512102Z",
     "shell.execute_reply": "2024-02-05T17:58:36.511076Z"
    },
    "papermill": {
     "duration": 0.020625,
     "end_time": "2024-02-05T17:58:36.514168",
     "exception": false,
     "start_time": "2024-02-05T17:58:36.493543",
     "status": "completed"
    },
    "tags": []
   },
   "outputs": [
    {
     "name": "stdout",
     "output_type": "stream",
     "text": [
      "Splitting 91 candies\n"
     ]
    },
    {
     "data": {
      "text/plain": [
       "1"
      ]
     },
     "execution_count": 4,
     "metadata": {},
     "output_type": "execute_result"
    }
   ],
   "source": [
    "def to_smash(total_candies):\n",
    "    \"\"\"Return the number of leftover candies that must be smashed after distributing\n",
    "    the given number of candies evenly between 3 friends.\n",
    "    \n",
    "    >>> to_smash(91)\n",
    "    1\n",
    "    \"\"\"\n",
    "    print(\"Splitting\", total_candies, \"candies\")\n",
    "    return total_candies % 3\n",
    "\n",
    "to_smash(91)"
   ]
  },
  {
   "cell_type": "markdown",
   "id": "d63a5188",
   "metadata": {
    "papermill": {
     "duration": 0.008348,
     "end_time": "2024-02-05T17:58:36.531164",
     "exception": false,
     "start_time": "2024-02-05T17:58:36.522816",
     "status": "completed"
    },
    "tags": []
   },
   "source": [
    "What happens if we call it with `total_candies = 1`?"
   ]
  },
  {
   "cell_type": "code",
   "execution_count": 5,
   "id": "329e9f17",
   "metadata": {
    "execution": {
     "iopub.execute_input": "2024-02-05T17:58:36.550574Z",
     "iopub.status.busy": "2024-02-05T17:58:36.549829Z",
     "iopub.status.idle": "2024-02-05T17:58:36.557171Z",
     "shell.execute_reply": "2024-02-05T17:58:36.556098Z"
    },
    "papermill": {
     "duration": 0.019616,
     "end_time": "2024-02-05T17:58:36.559440",
     "exception": false,
     "start_time": "2024-02-05T17:58:36.539824",
     "status": "completed"
    },
    "tags": []
   },
   "outputs": [
    {
     "name": "stdout",
     "output_type": "stream",
     "text": [
      "Splitting 1 candies\n"
     ]
    },
    {
     "data": {
      "text/plain": [
       "1"
      ]
     },
     "execution_count": 5,
     "metadata": {},
     "output_type": "execute_result"
    }
   ],
   "source": [
    "to_smash(1)"
   ]
  },
  {
   "cell_type": "markdown",
   "id": "f6e67f08",
   "metadata": {
    "papermill": {
     "duration": 0.008575,
     "end_time": "2024-02-05T17:58:36.577102",
     "exception": false,
     "start_time": "2024-02-05T17:58:36.568527",
     "status": "completed"
    },
    "tags": []
   },
   "source": [
    "That isn't great grammar!\n",
    "\n",
    "Modify the definition in the cell below to correct the grammar of our print statement. (If there's only one candy, we should use the singular \"candy\" instead of the plural \"candies\")"
   ]
  },
  {
   "cell_type": "code",
   "execution_count": 6,
   "id": "00aa23b7",
   "metadata": {
    "execution": {
     "iopub.execute_input": "2024-02-05T17:58:36.596984Z",
     "iopub.status.busy": "2024-02-05T17:58:36.596058Z",
     "iopub.status.idle": "2024-02-05T17:58:36.605552Z",
     "shell.execute_reply": "2024-02-05T17:58:36.604518Z"
    },
    "papermill": {
     "duration": 0.021683,
     "end_time": "2024-02-05T17:58:36.607653",
     "exception": false,
     "start_time": "2024-02-05T17:58:36.585970",
     "status": "completed"
    },
    "tags": []
   },
   "outputs": [
    {
     "name": "stdout",
     "output_type": "stream",
     "text": [
      "Splitting 91 candies\n",
      "Splitting 1 candy\n"
     ]
    },
    {
     "data": {
      "text/plain": [
       "1"
      ]
     },
     "execution_count": 6,
     "metadata": {},
     "output_type": "execute_result"
    }
   ],
   "source": [
    "def to_smash(total_candies):\n",
    "    \"\"\"Return the number of leftover candies that must be smashed after distributing\n",
    "    the given number of candies evenly between 3 friends.\n",
    "    \n",
    "    >>> to_smash(91)\n",
    "    1\n",
    "    \"\"\"\n",
    "    if total_candies == 1:\n",
    "        print(\"Splitting\", total_candies, \"candy\")\n",
    "        return total_candies % 3\n",
    "    else:\n",
    "        print(\"Splitting\", total_candies, \"candies\")\n",
    "        return total_candies % 3\n",
    "\n",
    "to_smash(91)\n",
    "to_smash(1)"
   ]
  },
  {
   "cell_type": "markdown",
   "id": "d79ce3e6",
   "metadata": {
    "papermill": {
     "duration": 0.008577,
     "end_time": "2024-02-05T17:58:36.625151",
     "exception": false,
     "start_time": "2024-02-05T17:58:36.616574",
     "status": "completed"
    },
    "tags": []
   },
   "source": [
    "To get credit for completing this problem, and to see the official answer, run the code cell below."
   ]
  },
  {
   "cell_type": "code",
   "execution_count": 7,
   "id": "5929f306",
   "metadata": {
    "execution": {
     "iopub.execute_input": "2024-02-05T17:58:36.644976Z",
     "iopub.status.busy": "2024-02-05T17:58:36.644298Z",
     "iopub.status.idle": "2024-02-05T17:58:36.652426Z",
     "shell.execute_reply": "2024-02-05T17:58:36.651402Z"
    },
    "papermill": {
     "duration": 0.020419,
     "end_time": "2024-02-05T17:58:36.654508",
     "exception": false,
     "start_time": "2024-02-05T17:58:36.634089",
     "status": "completed"
    },
    "tags": []
   },
   "outputs": [
    {
     "data": {
      "application/javascript": [
       "parent.postMessage({\"jupyterEvent\": \"custom.exercise_interaction\", \"data\": {\"interactionType\": 3, \"questionType\": 4, \"questionId\": \"2_PluralizationProblem\", \"learnToolsVersion\": \"0.3.4\", \"valueTowardsCompletion\": 0.0, \"failureMessage\": \"\", \"exceptionClass\": \"\", \"trace\": \"\", \"outcomeType\": 4}}, \"*\")"
      ],
      "text/plain": [
       "<IPython.core.display.Javascript object>"
      ]
     },
     "metadata": {},
     "output_type": "display_data"
    },
    {
     "data": {
      "text/markdown": [
       "<span style=\"color:#33cc99\">Solution:</span> A straightforward (and totally fine) solution is to replace the original `print` call with:\n",
       "\n",
       "```python\n",
       "if total_candies == 1:\n",
       "    print(\"Splitting 1 candy\")\n",
       "else:\n",
       "    print(\"Splitting\", total_candies, \"candies\")\n",
       "```\n",
       "\n",
       "Here's a slightly more succinct solution using a conditional expression:\n",
       "\n",
       "```python\n",
       "print(\"Splitting\", total_candies, \"candy\" if total_candies == 1 else \"candies\")\n",
       "```"
      ],
      "text/plain": [
       "Solution: A straightforward (and totally fine) solution is to replace the original `print` call with:\n",
       "\n",
       "```python\n",
       "if total_candies == 1:\n",
       "    print(\"Splitting 1 candy\")\n",
       "else:\n",
       "    print(\"Splitting\", total_candies, \"candies\")\n",
       "```\n",
       "\n",
       "Here's a slightly more succinct solution using a conditional expression:\n",
       "\n",
       "```python\n",
       "print(\"Splitting\", total_candies, \"candy\" if total_candies == 1 else \"candies\")\n",
       "```"
      ]
     },
     "metadata": {},
     "output_type": "display_data"
    }
   ],
   "source": [
    "# Check your answer (Run this code cell to receive credit!)\n",
    "q2.solution()"
   ]
  },
  {
   "cell_type": "markdown",
   "id": "65ef1568",
   "metadata": {
    "papermill": {
     "duration": 0.008772,
     "end_time": "2024-02-05T17:58:36.672335",
     "exception": false,
     "start_time": "2024-02-05T17:58:36.663563",
     "status": "completed"
    },
    "tags": []
   },
   "source": [
    "# 3. <span title=\"A bit spicy\" style=\"color: darkgreen \">🌶️</span>\n",
    "\n",
    "In the tutorial, we talked about deciding whether we're prepared for the weather. I said that I'm safe from today's weather if...\n",
    "- I have an umbrella...\n",
    "- or if the rain isn't too heavy and I have a hood...\n",
    "- otherwise, I'm still fine unless it's raining *and* it's a workday\n",
    "\n",
    "The function below uses our first attempt at turning this logic into a Python expression. I claimed that there was a bug in that code. Can you find it?\n",
    "\n",
    "To prove that `prepared_for_weather` is buggy, come up with a set of inputs where either:\n",
    "- the function returns `False` (but should have returned `True`), or\n",
    "- the function returned `True` (but should have returned `False`).\n",
    "\n",
    "To get credit for completing this question, your code should return a <font color='#33cc33'>Correct</font> result."
   ]
  },
  {
   "cell_type": "code",
   "execution_count": 8,
   "id": "af41976e",
   "metadata": {
    "execution": {
     "iopub.execute_input": "2024-02-05T17:58:36.694960Z",
     "iopub.status.busy": "2024-02-05T17:58:36.694252Z",
     "iopub.status.idle": "2024-02-05T17:58:36.706526Z",
     "shell.execute_reply": "2024-02-05T17:58:36.705055Z"
    },
    "papermill": {
     "duration": 0.026761,
     "end_time": "2024-02-05T17:58:36.709156",
     "exception": false,
     "start_time": "2024-02-05T17:58:36.682395",
     "status": "completed"
    },
    "tags": []
   },
   "outputs": [
    {
     "name": "stdout",
     "output_type": "stream",
     "text": [
      "False\n"
     ]
    },
    {
     "data": {
      "application/javascript": [
       "parent.postMessage({\"jupyterEvent\": \"custom.exercise_interaction\", \"data\": {\"outcomeType\": 1, \"valueTowardsCompletion\": 0.2, \"interactionType\": 1, \"questionType\": 1, \"questionId\": \"3_WeatherDebug\", \"learnToolsVersion\": \"0.3.4\", \"failureMessage\": \"\", \"exceptionClass\": \"\", \"trace\": \"\"}}, \"*\")"
      ],
      "text/plain": [
       "<IPython.core.display.Javascript object>"
      ]
     },
     "metadata": {},
     "output_type": "display_data"
    },
    {
     "data": {
      "text/markdown": [
       "<span style=\"color:#33cc33\">Correct:</span> \n",
       "\n",
       "One example of a failing test case is:\n",
       "\n",
       "```python\n",
       "have_umbrella = False\n",
       "rain_level = 0.0\n",
       "have_hood = False\n",
       "is_workday = False\n",
       "```\n",
       "\n",
       "Clearly we're prepared for the weather in this case. It's not raining. Not only that, it's not a workday, so we don't even need to leave the house! But our function will return False on these inputs.\n",
       "\n",
       "The key problem is that Python implictly parenthesizes the last part as:\n",
       "\n",
       "```python\n",
       "(not (rain_level > 0)) and is_workday\n",
       "```\n",
       "\n",
       "Whereas what we were trying to express would look more like:\n",
       "\n",
       "```python\n",
       "not (rain_level > 0 and is_workday)\n",
       "```\n"
      ],
      "text/plain": [
       "Correct: \n",
       "\n",
       "One example of a failing test case is:\n",
       "\n",
       "```python\n",
       "have_umbrella = False\n",
       "rain_level = 0.0\n",
       "have_hood = False\n",
       "is_workday = False\n",
       "```\n",
       "\n",
       "Clearly we're prepared for the weather in this case. It's not raining. Not only that, it's not a workday, so we don't even need to leave the house! But our function will return False on these inputs.\n",
       "\n",
       "The key problem is that Python implictly parenthesizes the last part as:\n",
       "\n",
       "```python\n",
       "(not (rain_level > 0)) and is_workday\n",
       "```\n",
       "\n",
       "Whereas what we were trying to express would look more like:\n",
       "\n",
       "```python\n",
       "not (rain_level > 0 and is_workday)\n",
       "```"
      ]
     },
     "metadata": {},
     "output_type": "display_data"
    }
   ],
   "source": [
    "def prepared_for_weather(have_umbrella, rain_level, have_hood, is_workday):\n",
    "    # Don't change this code. Our goal is just to find the bug, not fix it!\n",
    "    return have_umbrella or (rain_level < 5 and have_hood) or ((rain_level <= 0) and is_workday)\n",
    "\n",
    "# Change the values of these inputs so they represent a case where prepared_for_weather\n",
    "# returns the wrong answer.\n",
    "have_umbrella = False\n",
    "rain_level = 0\n",
    "have_hood = False\n",
    "is_workday = False\n",
    "\n",
    "# Check what the function returns given the current values of the variables above\n",
    "actual = prepared_for_weather(have_umbrella, rain_level, have_hood, is_workday)\n",
    "print(actual)\n",
    "\n",
    "# Check your answer\n",
    "q3.check()"
   ]
  },
  {
   "cell_type": "code",
   "execution_count": 9,
   "id": "55b1ec1a",
   "metadata": {
    "execution": {
     "iopub.execute_input": "2024-02-05T17:58:36.730759Z",
     "iopub.status.busy": "2024-02-05T17:58:36.730312Z",
     "iopub.status.idle": "2024-02-05T17:58:36.735448Z",
     "shell.execute_reply": "2024-02-05T17:58:36.734337Z"
    },
    "papermill": {
     "duration": 0.01837,
     "end_time": "2024-02-05T17:58:36.737616",
     "exception": false,
     "start_time": "2024-02-05T17:58:36.719246",
     "status": "completed"
    },
    "tags": []
   },
   "outputs": [],
   "source": [
    "#q3.hint()\n",
    "#q3.solution()"
   ]
  },
  {
   "cell_type": "markdown",
   "id": "983e3da2",
   "metadata": {
    "papermill": {
     "duration": 0.009503,
     "end_time": "2024-02-05T17:58:36.757060",
     "exception": false,
     "start_time": "2024-02-05T17:58:36.747557",
     "status": "completed"
    },
    "tags": []
   },
   "source": [
    "# 4.\n",
    "\n",
    "The function `is_negative` below is implemented correctly - it returns True if the given number is negative and False otherwise.\n",
    "\n",
    "However, it's more verbose than it needs to be. We can actually reduce the number of lines of code in this function by *75%* while keeping the same behaviour. \n",
    "\n",
    "See if you can come up with an equivalent body that uses just **one line** of code, and put it in the function `concise_is_negative`. (HINT: you don't even need Python's ternary syntax)"
   ]
  },
  {
   "cell_type": "code",
   "execution_count": 10,
   "id": "d4071f83",
   "metadata": {
    "execution": {
     "iopub.execute_input": "2024-02-05T17:58:36.779081Z",
     "iopub.status.busy": "2024-02-05T17:58:36.778269Z",
     "iopub.status.idle": "2024-02-05T17:58:36.788444Z",
     "shell.execute_reply": "2024-02-05T17:58:36.787314Z"
    },
    "papermill": {
     "duration": 0.023991,
     "end_time": "2024-02-05T17:58:36.790786",
     "exception": false,
     "start_time": "2024-02-05T17:58:36.766795",
     "status": "completed"
    },
    "tags": []
   },
   "outputs": [
    {
     "data": {
      "application/javascript": [
       "parent.postMessage({\"jupyterEvent\": \"custom.exercise_interaction\", \"data\": {\"outcomeType\": 1, \"valueTowardsCompletion\": 0.2, \"interactionType\": 1, \"questionType\": 2, \"questionId\": \"4_ConciseIsNegative\", \"learnToolsVersion\": \"0.3.4\", \"failureMessage\": \"\", \"exceptionClass\": \"\", \"trace\": \"\"}}, \"*\")"
      ],
      "text/plain": [
       "<IPython.core.display.Javascript object>"
      ]
     },
     "metadata": {},
     "output_type": "display_data"
    },
    {
     "data": {
      "text/markdown": [
       "<span style=\"color:#33cc33\">Correct</span>"
      ],
      "text/plain": [
       "Correct"
      ]
     },
     "metadata": {},
     "output_type": "display_data"
    }
   ],
   "source": [
    "def is_negative(number):\n",
    "    if number < 0:\n",
    "        return True\n",
    "    else:\n",
    "        return False\n",
    "\n",
    "def concise_is_negative(number):\n",
    "    return number < 0 # Your code goes here (try to keep it to one line!)\n",
    "\n",
    "# Check your answer\n",
    "q4.check()"
   ]
  },
  {
   "cell_type": "code",
   "execution_count": 11,
   "id": "ef5dae14",
   "metadata": {
    "execution": {
     "iopub.execute_input": "2024-02-05T17:58:36.813316Z",
     "iopub.status.busy": "2024-02-05T17:58:36.812907Z",
     "iopub.status.idle": "2024-02-05T17:58:36.817287Z",
     "shell.execute_reply": "2024-02-05T17:58:36.816100Z"
    },
    "papermill": {
     "duration": 0.018527,
     "end_time": "2024-02-05T17:58:36.819335",
     "exception": false,
     "start_time": "2024-02-05T17:58:36.800808",
     "status": "completed"
    },
    "tags": []
   },
   "outputs": [],
   "source": [
    "#q4.hint()\n",
    "#q4.solution()"
   ]
  },
  {
   "cell_type": "markdown",
   "id": "14290505",
   "metadata": {
    "papermill": {
     "duration": 0.009728,
     "end_time": "2024-02-05T17:58:36.839106",
     "exception": false,
     "start_time": "2024-02-05T17:58:36.829378",
     "status": "completed"
    },
    "tags": []
   },
   "source": [
    "# 5a.\n",
    "\n",
    "The boolean variables `ketchup`, `mustard` and `onion` represent whether a customer wants a particular topping on their hot dog. We want to implement a number of boolean functions that correspond to some yes-or-no questions about the customer's order. For example:"
   ]
  },
  {
   "cell_type": "code",
   "execution_count": 12,
   "id": "891e2575",
   "metadata": {
    "execution": {
     "iopub.execute_input": "2024-02-05T17:58:36.861324Z",
     "iopub.status.busy": "2024-02-05T17:58:36.860132Z",
     "iopub.status.idle": "2024-02-05T17:58:36.865432Z",
     "shell.execute_reply": "2024-02-05T17:58:36.864672Z"
    },
    "papermill": {
     "duration": 0.018387,
     "end_time": "2024-02-05T17:58:36.867457",
     "exception": false,
     "start_time": "2024-02-05T17:58:36.849070",
     "status": "completed"
    },
    "tags": []
   },
   "outputs": [],
   "source": [
    "def onionless(ketchup, mustard, onion):\n",
    "    \"\"\"Return whether the customer doesn't want onions.\n",
    "    \"\"\"    \n",
    "    return not onion"
   ]
  },
  {
   "cell_type": "code",
   "execution_count": 13,
   "id": "af39a013",
   "metadata": {
    "execution": {
     "iopub.execute_input": "2024-02-05T17:58:36.889735Z",
     "iopub.status.busy": "2024-02-05T17:58:36.889292Z",
     "iopub.status.idle": "2024-02-05T17:58:36.899200Z",
     "shell.execute_reply": "2024-02-05T17:58:36.898076Z"
    },
    "papermill": {
     "duration": 0.02351,
     "end_time": "2024-02-05T17:58:36.901289",
     "exception": false,
     "start_time": "2024-02-05T17:58:36.877779",
     "status": "completed"
    },
    "tags": []
   },
   "outputs": [
    {
     "data": {
      "application/javascript": [
       "parent.postMessage({\"jupyterEvent\": \"custom.exercise_interaction\", \"data\": {\"outcomeType\": 1, \"valueTowardsCompletion\": 0.2, \"interactionType\": 1, \"questionType\": 2, \"questionId\": \"5.1_AllToppings\", \"learnToolsVersion\": \"0.3.4\", \"failureMessage\": \"\", \"exceptionClass\": \"\", \"trace\": \"\"}}, \"*\")"
      ],
      "text/plain": [
       "<IPython.core.display.Javascript object>"
      ]
     },
     "metadata": {},
     "output_type": "display_data"
    },
    {
     "data": {
      "text/markdown": [
       "<span style=\"color:#33cc33\">Correct</span>"
      ],
      "text/plain": [
       "Correct"
      ]
     },
     "metadata": {},
     "output_type": "display_data"
    }
   ],
   "source": [
    "def wants_all_toppings(ketchup, mustard, onion):\n",
    "    \"\"\"Return whether the customer wants \"the works\" (all 3 toppings)\n",
    "    \"\"\"\n",
    "    return ketchup and mustard and onion\n",
    "\n",
    "# Check your answer\n",
    "q5.a.check()"
   ]
  },
  {
   "cell_type": "code",
   "execution_count": 14,
   "id": "b93a24a7",
   "metadata": {
    "execution": {
     "iopub.execute_input": "2024-02-05T17:58:36.923651Z",
     "iopub.status.busy": "2024-02-05T17:58:36.923311Z",
     "iopub.status.idle": "2024-02-05T17:58:36.927541Z",
     "shell.execute_reply": "2024-02-05T17:58:36.926472Z"
    },
    "papermill": {
     "duration": 0.018215,
     "end_time": "2024-02-05T17:58:36.929688",
     "exception": false,
     "start_time": "2024-02-05T17:58:36.911473",
     "status": "completed"
    },
    "tags": []
   },
   "outputs": [],
   "source": [
    "#q5.a.hint()\n",
    "#q5.a.solution()"
   ]
  },
  {
   "cell_type": "markdown",
   "id": "4ac3a171",
   "metadata": {
    "papermill": {
     "duration": 0.009947,
     "end_time": "2024-02-05T17:58:36.950458",
     "exception": false,
     "start_time": "2024-02-05T17:58:36.940511",
     "status": "completed"
    },
    "tags": []
   },
   "source": [
    "# 5b.\n",
    "\n",
    "For the next function, fill in the body to match the English description in the docstring. "
   ]
  },
  {
   "cell_type": "code",
   "execution_count": 15,
   "id": "5d325fcb",
   "metadata": {
    "execution": {
     "iopub.execute_input": "2024-02-05T17:58:36.972589Z",
     "iopub.status.busy": "2024-02-05T17:58:36.972150Z",
     "iopub.status.idle": "2024-02-05T17:58:36.982481Z",
     "shell.execute_reply": "2024-02-05T17:58:36.981415Z"
    },
    "papermill": {
     "duration": 0.023883,
     "end_time": "2024-02-05T17:58:36.984569",
     "exception": false,
     "start_time": "2024-02-05T17:58:36.960686",
     "status": "completed"
    },
    "tags": []
   },
   "outputs": [
    {
     "data": {
      "application/javascript": [
       "parent.postMessage({\"jupyterEvent\": \"custom.exercise_interaction\", \"data\": {\"outcomeType\": 1, \"valueTowardsCompletion\": 0.2, \"interactionType\": 1, \"questionType\": 2, \"questionId\": \"5.2_PlainDog\", \"learnToolsVersion\": \"0.3.4\", \"failureMessage\": \"\", \"exceptionClass\": \"\", \"trace\": \"\"}}, \"*\")"
      ],
      "text/plain": [
       "<IPython.core.display.Javascript object>"
      ]
     },
     "metadata": {},
     "output_type": "display_data"
    },
    {
     "data": {
      "text/markdown": [
       "<span style=\"color:#33cc33\">Correct:</span> \n",
       "\n",
       "One solution looks like:\n",
       "```python\n",
       "return not ketchup and not mustard and not onion\n",
       "```\n",
       "\n",
       "We can also [\"factor out\" the nots](https://en.wikipedia.org/wiki/De_Morgan%27s_laws) to get:\n",
       "\n",
       "```python\n",
       "return not (ketchup or mustard or onion)\n",
       "```"
      ],
      "text/plain": [
       "Correct: \n",
       "\n",
       "One solution looks like:\n",
       "```python\n",
       "return not ketchup and not mustard and not onion\n",
       "```\n",
       "\n",
       "We can also [\"factor out\" the nots](https://en.wikipedia.org/wiki/De_Morgan%27s_laws) to get:\n",
       "\n",
       "```python\n",
       "return not (ketchup or mustard or onion)\n",
       "```"
      ]
     },
     "metadata": {},
     "output_type": "display_data"
    }
   ],
   "source": [
    "def wants_plain_hotdog(ketchup, mustard, onion):\n",
    "    \"\"\"Return whether the customer wants a plain hot dog with no toppings.\n",
    "    \"\"\"\n",
    "    return (not ketchup) and  (not mustard) and (not onion)\n",
    "\n",
    "# Check your answer\n",
    "q5.b.check()"
   ]
  },
  {
   "cell_type": "code",
   "execution_count": 16,
   "id": "f1b1f6b1",
   "metadata": {
    "execution": {
     "iopub.execute_input": "2024-02-05T17:58:37.007269Z",
     "iopub.status.busy": "2024-02-05T17:58:37.006902Z",
     "iopub.status.idle": "2024-02-05T17:58:37.010759Z",
     "shell.execute_reply": "2024-02-05T17:58:37.009658Z"
    },
    "papermill": {
     "duration": 0.017749,
     "end_time": "2024-02-05T17:58:37.012725",
     "exception": false,
     "start_time": "2024-02-05T17:58:36.994976",
     "status": "completed"
    },
    "tags": []
   },
   "outputs": [],
   "source": [
    "#q5.b.hint()\n",
    "#q5.b.solution()"
   ]
  },
  {
   "cell_type": "markdown",
   "id": "51712124",
   "metadata": {
    "papermill": {
     "duration": 0.010289,
     "end_time": "2024-02-05T17:58:37.033512",
     "exception": false,
     "start_time": "2024-02-05T17:58:37.023223",
     "status": "completed"
    },
    "tags": []
   },
   "source": [
    "# 5c.\n",
    "\n",
    "You know what to do: for the next function, fill in the body to match the English description in the docstring."
   ]
  },
  {
   "cell_type": "code",
   "execution_count": 17,
   "id": "bec1b4d9",
   "metadata": {
    "execution": {
     "iopub.execute_input": "2024-02-05T17:58:37.058980Z",
     "iopub.status.busy": "2024-02-05T17:58:37.058657Z",
     "iopub.status.idle": "2024-02-05T17:58:37.067608Z",
     "shell.execute_reply": "2024-02-05T17:58:37.066512Z"
    },
    "papermill": {
     "duration": 0.022999,
     "end_time": "2024-02-05T17:58:37.069631",
     "exception": false,
     "start_time": "2024-02-05T17:58:37.046632",
     "status": "completed"
    },
    "tags": []
   },
   "outputs": [
    {
     "data": {
      "application/javascript": [
       "parent.postMessage({\"jupyterEvent\": \"custom.exercise_interaction\", \"data\": {\"outcomeType\": 1, \"valueTowardsCompletion\": 0.2, \"interactionType\": 1, \"questionType\": 2, \"questionId\": \"5.3_OneSauce\", \"learnToolsVersion\": \"0.3.4\", \"failureMessage\": \"\", \"exceptionClass\": \"\", \"trace\": \"\"}}, \"*\")"
      ],
      "text/plain": [
       "<IPython.core.display.Javascript object>"
      ]
     },
     "metadata": {},
     "output_type": "display_data"
    },
    {
     "data": {
      "text/markdown": [
       "<span style=\"color:#33cc33\">Correct</span>"
      ],
      "text/plain": [
       "Correct"
      ]
     },
     "metadata": {},
     "output_type": "display_data"
    }
   ],
   "source": [
    "def exactly_one_sauce(ketchup, mustard, onion):\n",
    "    \"\"\"Return whether the customer wants either ketchup or mustard, but not both.\n",
    "    (You may be familiar with this operation under the name \"exclusive or\")\n",
    "    \"\"\"\n",
    "    return (ketchup and not mustard) != (mustard and not ketchup)\n",
    "\n",
    "# Check your answer\n",
    "q5.c.check()"
   ]
  },
  {
   "cell_type": "code",
   "execution_count": 18,
   "id": "50e175c1",
   "metadata": {
    "execution": {
     "iopub.execute_input": "2024-02-05T17:58:37.093163Z",
     "iopub.status.busy": "2024-02-05T17:58:37.092727Z",
     "iopub.status.idle": "2024-02-05T17:58:37.097135Z",
     "shell.execute_reply": "2024-02-05T17:58:37.096084Z"
    },
    "papermill": {
     "duration": 0.018855,
     "end_time": "2024-02-05T17:58:37.099380",
     "exception": false,
     "start_time": "2024-02-05T17:58:37.080525",
     "status": "completed"
    },
    "tags": []
   },
   "outputs": [],
   "source": [
    "#q5.c.hint()\n",
    "#q5.c.solution()"
   ]
  },
  {
   "cell_type": "markdown",
   "id": "08b3779c",
   "metadata": {
    "papermill": {
     "duration": 0.011048,
     "end_time": "2024-02-05T17:58:37.123096",
     "exception": false,
     "start_time": "2024-02-05T17:58:37.112048",
     "status": "completed"
    },
    "tags": []
   },
   "source": [
    "# 6. <span title=\"A bit spicy\" style=\"color: darkgreen \">🌶️</span>\n",
    "\n",
    "We’ve seen that calling `bool()` on an integer returns `False` if it’s equal to 0 and `True` otherwise. What happens if we call `int()` on a bool? Try it out in the notebook cell below.\n",
    "\n",
    "Can you take advantage of this to write a succinct function that corresponds to the English sentence \"does the customer want exactly one topping?\"?"
   ]
  },
  {
   "cell_type": "code",
   "execution_count": 19,
   "id": "53a92213",
   "metadata": {
    "execution": {
     "iopub.execute_input": "2024-02-05T17:58:37.147701Z",
     "iopub.status.busy": "2024-02-05T17:58:37.147257Z",
     "iopub.status.idle": "2024-02-05T17:58:37.156176Z",
     "shell.execute_reply": "2024-02-05T17:58:37.155392Z"
    },
    "papermill": {
     "duration": 0.023468,
     "end_time": "2024-02-05T17:58:37.158103",
     "exception": false,
     "start_time": "2024-02-05T17:58:37.134635",
     "status": "completed"
    },
    "tags": []
   },
   "outputs": [
    {
     "data": {
      "application/javascript": [
       "parent.postMessage({\"jupyterEvent\": \"custom.exercise_interaction\", \"data\": {\"outcomeType\": 1, \"valueTowardsCompletion\": 0.2, \"interactionType\": 1, \"questionType\": 2, \"questionId\": \"6_OneTopping\", \"learnToolsVersion\": \"0.3.4\", \"failureMessage\": \"\", \"exceptionClass\": \"\", \"trace\": \"\"}}, \"*\")"
      ],
      "text/plain": [
       "<IPython.core.display.Javascript object>"
      ]
     },
     "metadata": {},
     "output_type": "display_data"
    },
    {
     "data": {
      "text/markdown": [
       "<span style=\"color:#33cc33\">Correct:</span> \n",
       "\n",
       "This condition would be pretty complicated to express using just `and`, `or` and `not`, but using boolean-to-integer conversion gives us this short solution:\n",
       "```python\n",
       "return (int(ketchup) + int(mustard) + int(onion)) == 1\n",
       "```\n",
       "\n",
       "Fun fact: we don't technically need to call `int` on the arguments. Just by doing addition with booleans, Python implicitly does the integer conversion. So we could also write...\n",
       "\n",
       "```python\n",
       "return (ketchup + mustard + onion) == 1\n",
       "```"
      ],
      "text/plain": [
       "Correct: \n",
       "\n",
       "This condition would be pretty complicated to express using just `and`, `or` and `not`, but using boolean-to-integer conversion gives us this short solution:\n",
       "```python\n",
       "return (int(ketchup) + int(mustard) + int(onion)) == 1\n",
       "```\n",
       "\n",
       "Fun fact: we don't technically need to call `int` on the arguments. Just by doing addition with booleans, Python implicitly does the integer conversion. So we could also write...\n",
       "\n",
       "```python\n",
       "return (ketchup + mustard + onion) == 1\n",
       "```"
      ]
     },
     "metadata": {},
     "output_type": "display_data"
    }
   ],
   "source": [
    "def exactly_one_topping(ketchup, mustard, onion):\n",
    "    \"\"\"Return whether the customer wants exactly one of the three available toppings\n",
    "    on their hot dog.\n",
    "    \"\"\"\n",
    "    return (int(ketchup) + int(mustard) + int(onion)) == 1\n",
    "\n",
    "# Check your answer\n",
    "q6.check()"
   ]
  },
  {
   "cell_type": "code",
   "execution_count": 20,
   "id": "bef1022e",
   "metadata": {
    "execution": {
     "iopub.execute_input": "2024-02-05T17:58:37.182040Z",
     "iopub.status.busy": "2024-02-05T17:58:37.181651Z",
     "iopub.status.idle": "2024-02-05T17:58:37.185561Z",
     "shell.execute_reply": "2024-02-05T17:58:37.184702Z"
    },
    "papermill": {
     "duration": 0.018189,
     "end_time": "2024-02-05T17:58:37.187398",
     "exception": false,
     "start_time": "2024-02-05T17:58:37.169209",
     "status": "completed"
    },
    "tags": []
   },
   "outputs": [],
   "source": [
    "#q6.hint()\n",
    "#q6.solution()"
   ]
  },
  {
   "cell_type": "markdown",
   "id": "97811628",
   "metadata": {
    "papermill": {
     "duration": 0.011569,
     "end_time": "2024-02-05T17:58:37.210100",
     "exception": false,
     "start_time": "2024-02-05T17:58:37.198531",
     "status": "completed"
    },
    "tags": []
   },
   "source": [
    "# 7. <span title=\"A bit spicy\" style=\"color: darkgreen \">🌶️</span> (Optional)\n",
    "\n",
    "In this problem we'll be working with a simplified version of [blackjack](https://en.wikipedia.org/wiki/Blackjack) (aka twenty-one). In this version there is one player (who you'll control) and a dealer. Play proceeds as follows:\n",
    "\n",
    "- The player is dealt two face-up cards. The dealer is dealt one face-up card.\n",
    "- The player may ask to be dealt another card ('hit') as many times as they wish. If the sum of their cards exceeds 21, they lose the round immediately.\n",
    "- The dealer then deals additional cards to himself until either:\n",
    "    - the sum of the dealer's cards exceeds 21, in which case the player wins the round\n",
    "    - the sum of the dealer's cards is greater than or equal to 17. If the player's total is greater than the dealer's, the player wins. Otherwise, the dealer wins (even in case of a tie).\n",
    "    \n",
    "When calculating the sum of cards, Jack, Queen, and King count for 10. Aces can count as 1 or 11 (when referring to a player's \"total\" above, we mean the largest total that can be made without exceeding 21. So e.g. A+8 = 19, A+8+8 = 17)\n",
    "\n",
    "For this problem, you'll write a function representing the player's decision-making strategy in this game. We've provided a very unintelligent implementation below:"
   ]
  },
  {
   "cell_type": "code",
   "execution_count": 21,
   "id": "a088fd77",
   "metadata": {
    "execution": {
     "iopub.execute_input": "2024-02-05T17:58:37.235448Z",
     "iopub.status.busy": "2024-02-05T17:58:37.235096Z",
     "iopub.status.idle": "2024-02-05T17:58:37.240049Z",
     "shell.execute_reply": "2024-02-05T17:58:37.238888Z"
    },
    "papermill": {
     "duration": 0.020321,
     "end_time": "2024-02-05T17:58:37.242235",
     "exception": false,
     "start_time": "2024-02-05T17:58:37.221914",
     "status": "completed"
    },
    "tags": []
   },
   "outputs": [],
   "source": [
    "def should_hit(dealer_total, player_total, player_low_aces, player_high_aces):\n",
    "    \"\"\"Return True if the player should hit (request another card) given the current game\n",
    "    state, or False if the player should stay.\n",
    "    When calculating a hand's total value, we count aces as \"high\" (with value 11) if doing so\n",
    "    doesn't bring the total above 21, otherwise we count them as low (with value 1). \n",
    "    For example, if the player's hand is {A, A, A, 7}, we will count it as 11 + 1 + 1 + 7,\n",
    "    and therefore set player_total=20, player_low_aces=2, player_high_aces=1.\n",
    "    \"\"\"\n",
    "    return False"
   ]
  },
  {
   "cell_type": "markdown",
   "id": "801477b5",
   "metadata": {
    "papermill": {
     "duration": 0.010923,
     "end_time": "2024-02-05T17:58:37.322000",
     "exception": false,
     "start_time": "2024-02-05T17:58:37.311077",
     "status": "completed"
    },
    "tags": []
   },
   "source": [
    "This very conservative agent *always* sticks with the hand of two cards that they're dealt.\n",
    "\n",
    "We'll be simulating games between your player agent and our own dealer agent by calling your function.\n",
    "\n",
    "Try running the function below to see an example of a simulated game:"
   ]
  },
  {
   "cell_type": "code",
   "execution_count": 22,
   "id": "016533f4",
   "metadata": {
    "execution": {
     "iopub.execute_input": "2024-02-05T17:58:37.346764Z",
     "iopub.status.busy": "2024-02-05T17:58:37.346396Z",
     "iopub.status.idle": "2024-02-05T17:58:37.352477Z",
     "shell.execute_reply": "2024-02-05T17:58:37.350851Z"
    },
    "papermill": {
     "duration": 0.020874,
     "end_time": "2024-02-05T17:58:37.354708",
     "exception": false,
     "start_time": "2024-02-05T17:58:37.333834",
     "status": "completed"
    },
    "tags": []
   },
   "outputs": [
    {
     "name": "stdout",
     "output_type": "stream",
     "text": [
      "Player starts with 5 and K (total = 15)\n",
      "Dealer starts with Q\n",
      "\n",
      "__Player's turn__\n",
      "Player stays\n",
      "\n",
      "__Dealer's turn__\n",
      "Dealer hits and receives Q. (total = 20)\n",
      "Dealer stands.\n",
      "Dealer wins. 20 >= 15\n"
     ]
    }
   ],
   "source": [
    "q7.simulate_one_game()"
   ]
  },
  {
   "cell_type": "markdown",
   "id": "37fb1223",
   "metadata": {
    "papermill": {
     "duration": 0.011667,
     "end_time": "2024-02-05T17:58:37.378122",
     "exception": false,
     "start_time": "2024-02-05T17:58:37.366455",
     "status": "completed"
    },
    "tags": []
   },
   "source": [
    "The real test of your agent's mettle is their average win rate over many games. Try calling the function below to simulate 50000 games of blackjack (it may take a couple seconds):"
   ]
  },
  {
   "cell_type": "code",
   "execution_count": 23,
   "id": "cb8bd329",
   "metadata": {
    "execution": {
     "iopub.execute_input": "2024-02-05T17:58:37.403856Z",
     "iopub.status.busy": "2024-02-05T17:58:37.403475Z",
     "iopub.status.idle": "2024-02-05T17:58:38.816665Z",
     "shell.execute_reply": "2024-02-05T17:58:38.815585Z"
    },
    "papermill": {
     "duration": 1.428605,
     "end_time": "2024-02-05T17:58:38.818897",
     "exception": false,
     "start_time": "2024-02-05T17:58:37.390292",
     "status": "completed"
    },
    "tags": []
   },
   "outputs": [
    {
     "name": "stdout",
     "output_type": "stream",
     "text": [
      "Player won 19169 out of 50000 games (win rate = 38.3%)\n"
     ]
    }
   ],
   "source": [
    "q7.simulate(n_games=50000)"
   ]
  },
  {
   "cell_type": "markdown",
   "id": "0aa54295",
   "metadata": {
    "papermill": {
     "duration": 0.011662,
     "end_time": "2024-02-05T17:58:38.842752",
     "exception": false,
     "start_time": "2024-02-05T17:58:38.831090",
     "status": "completed"
    },
    "tags": []
   },
   "source": [
    "Our dumb agent that completely ignores the game state still manages to win shockingly often!\n",
    "\n",
    "Try adding some more smarts to the `should_hit` function and see how it affects the results."
   ]
  },
  {
   "cell_type": "code",
   "execution_count": 24,
   "id": "9cd2159d",
   "metadata": {
    "execution": {
     "iopub.execute_input": "2024-02-05T17:58:38.868300Z",
     "iopub.status.busy": "2024-02-05T17:58:38.867877Z",
     "iopub.status.idle": "2024-02-05T17:58:40.255699Z",
     "shell.execute_reply": "2024-02-05T17:58:40.254298Z"
    },
    "papermill": {
     "duration": 1.403766,
     "end_time": "2024-02-05T17:58:40.258179",
     "exception": false,
     "start_time": "2024-02-05T17:58:38.854413",
     "status": "completed"
    },
    "tags": []
   },
   "outputs": [
    {
     "name": "stdout",
     "output_type": "stream",
     "text": [
      "Player won 18971 out of 50000 games (win rate = 37.9%)\n"
     ]
    }
   ],
   "source": [
    "def should_hit(dealer_total, player_total, player_low_aces, player_high_aces):\n",
    "    \"\"\"Return True if the player should hit (request another card) given the current game\n",
    "    state, or False if the player should stay.\n",
    "    When calculating a hand's total value, we count aces as \"high\" (with value 11) if doing so\n",
    "    doesn't bring the total above 21, otherwise we count them as low (with value 1). \n",
    "    For example, if the player's hand is {A, A, A, 7}, we will count it as 11 + 1 + 1 + 7,\n",
    "    and therefore set player_total=20, player_low_aces=2, player_high_aces=1.\n",
    "    \"\"\"\n",
    "    return False\n",
    "\n",
    "q7.simulate(n_games=50000)"
   ]
  },
  {
   "cell_type": "markdown",
   "id": "2d9fc403",
   "metadata": {
    "papermill": {
     "duration": 0.012058,
     "end_time": "2024-02-05T17:58:40.282789",
     "exception": false,
     "start_time": "2024-02-05T17:58:40.270731",
     "status": "completed"
    },
    "tags": []
   },
   "source": [
    "# Keep Going\n",
    "\n",
    "Learn about **[lists and tuples](https://www.kaggle.com/colinmorris/lists)** to handle multiple items of data in a systematic way."
   ]
  },
  {
   "cell_type": "markdown",
   "id": "f5650f16",
   "metadata": {
    "papermill": {
     "duration": 0.011916,
     "end_time": "2024-02-05T17:58:40.306690",
     "exception": false,
     "start_time": "2024-02-05T17:58:40.294774",
     "status": "completed"
    },
    "tags": []
   },
   "source": [
    "---\n",
    "\n",
    "\n",
    "\n",
    "\n",
    "*Have questions or comments? Visit the [course discussion forum](https://www.kaggle.com/learn/python/discussion) to chat with other learners.*"
   ]
  }
 ],
 "metadata": {
  "kaggle": {
   "accelerator": "none",
   "dataSources": [],
   "isGpuEnabled": false,
   "isInternetEnabled": false,
   "language": "python",
   "sourceType": "notebook"
  },
  "kernelspec": {
   "display_name": "Python 3",
   "language": "python",
   "name": "python3"
  },
  "language_info": {
   "codemirror_mode": {
    "name": "ipython",
    "version": 3
   },
   "file_extension": ".py",
   "mimetype": "text/x-python",
   "name": "python",
   "nbconvert_exporter": "python",
   "pygments_lexer": "ipython3",
   "version": "3.10.13"
  },
  "learntools_metadata": {
   "lesson_index": 2,
   "type": "exercise"
  },
  "papermill": {
   "default_parameters": {},
   "duration": 8.199105,
   "end_time": "2024-02-05T17:58:40.839551",
   "environment_variables": {},
   "exception": null,
   "input_path": "__notebook__.ipynb",
   "output_path": "__notebook__.ipynb",
   "parameters": {},
   "start_time": "2024-02-05T17:58:32.640446",
   "version": "2.5.0"
  }
 },
 "nbformat": 4,
 "nbformat_minor": 5
}
